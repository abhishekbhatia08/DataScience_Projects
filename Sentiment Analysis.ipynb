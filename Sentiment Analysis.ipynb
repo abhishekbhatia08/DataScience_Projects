{
  "nbformat": 4,
  "nbformat_minor": 0,
  "metadata": {
    "colab": {
      "name": "TextMining_17July.ipynb",
      "provenance": [],
      "collapsed_sections": []
    },
    "kernelspec": {
      "name": "python3",
      "display_name": "Python 3"
    }
  },
  "cells": [
    {
      "cell_type": "code",
      "metadata": {
        "id": "Xb64fg2W81-t",
        "colab": {
          "base_uri": "https://localhost:8080/",
          "height": 204
        },
        "outputId": "619c338b-5cfd-4fb2-bb3f-0da449ee0879"
      },
      "source": [
        "# Twitter Sentiment Analysis\n",
        "import pandas as pd\n",
        "train = pd.read_csv('http://devanshushukla.com/hackveda.in/videos/PythonDataSets/twitter_sentiment_analysis.csv')\n",
        "train.head()"
      ],
      "execution_count": null,
      "outputs": [
        {
          "output_type": "execute_result",
          "data": {
            "text/html": [
              "<div>\n",
              "<style scoped>\n",
              "    .dataframe tbody tr th:only-of-type {\n",
              "        vertical-align: middle;\n",
              "    }\n",
              "\n",
              "    .dataframe tbody tr th {\n",
              "        vertical-align: top;\n",
              "    }\n",
              "\n",
              "    .dataframe thead th {\n",
              "        text-align: right;\n",
              "    }\n",
              "</style>\n",
              "<table border=\"1\" class=\"dataframe\">\n",
              "  <thead>\n",
              "    <tr style=\"text-align: right;\">\n",
              "      <th></th>\n",
              "      <th>id</th>\n",
              "      <th>label</th>\n",
              "      <th>tweet</th>\n",
              "    </tr>\n",
              "  </thead>\n",
              "  <tbody>\n",
              "    <tr>\n",
              "      <th>0</th>\n",
              "      <td>1</td>\n",
              "      <td>0</td>\n",
              "      <td>@user when a father is dysfunctional and is s...</td>\n",
              "    </tr>\n",
              "    <tr>\n",
              "      <th>1</th>\n",
              "      <td>2</td>\n",
              "      <td>0</td>\n",
              "      <td>@user @user thanks for #lyft credit i can't us...</td>\n",
              "    </tr>\n",
              "    <tr>\n",
              "      <th>2</th>\n",
              "      <td>3</td>\n",
              "      <td>0</td>\n",
              "      <td>bihday your majesty</td>\n",
              "    </tr>\n",
              "    <tr>\n",
              "      <th>3</th>\n",
              "      <td>4</td>\n",
              "      <td>0</td>\n",
              "      <td>#model   i love u take with u all the time in ...</td>\n",
              "    </tr>\n",
              "    <tr>\n",
              "      <th>4</th>\n",
              "      <td>5</td>\n",
              "      <td>0</td>\n",
              "      <td>factsguide: society now    #motivation</td>\n",
              "    </tr>\n",
              "  </tbody>\n",
              "</table>\n",
              "</div>"
            ],
            "text/plain": [
              "   id  label                                              tweet\n",
              "0   1      0   @user when a father is dysfunctional and is s...\n",
              "1   2      0  @user @user thanks for #lyft credit i can't us...\n",
              "2   3      0                                bihday your majesty\n",
              "3   4      0  #model   i love u take with u all the time in ...\n",
              "4   5      0             factsguide: society now    #motivation"
            ]
          },
          "metadata": {
            "tags": []
          },
          "execution_count": 1
        }
      ]
    },
    {
      "cell_type": "code",
      "metadata": {
        "id": "oXrp9LBOBXyT",
        "colab": {
          "base_uri": "https://localhost:8080/",
          "height": 34
        },
        "outputId": "d581cb63-ae4f-44ed-d044-92062842abdb"
      },
      "source": [
        "train.shape"
      ],
      "execution_count": null,
      "outputs": [
        {
          "output_type": "execute_result",
          "data": {
            "text/plain": [
              "(31962, 3)"
            ]
          },
          "metadata": {
            "tags": []
          },
          "execution_count": 2
        }
      ]
    },
    {
      "cell_type": "code",
      "metadata": {
        "id": "E-H-U1WYBjjD",
        "colab": {
          "base_uri": "https://localhost:8080/",
          "height": 34
        },
        "outputId": "40e8957f-eef8-4f50-9e66-f3f178e4bf7b"
      },
      "source": [
        "train.columns"
      ],
      "execution_count": null,
      "outputs": [
        {
          "output_type": "execute_result",
          "data": {
            "text/plain": [
              "Index(['id', 'label', 'tweet'], dtype='object')"
            ]
          },
          "metadata": {
            "tags": []
          },
          "execution_count": 3
        }
      ]
    },
    {
      "cell_type": "code",
      "metadata": {
        "id": "oT0GzbL2CGOS",
        "colab": {
          "base_uri": "https://localhost:8080/",
          "height": 34
        },
        "outputId": "b7a9584c-a534-480a-ae45-7585ee3f6ac3"
      },
      "source": [
        "# lambda function\n",
        "# anonymous function\n",
        "# a lambda can take upto n number of arguments\n",
        "# syntax : \n",
        "# lambda argument/s : expression\n",
        "\n",
        "x = lambda x : x+5\n",
        "\n",
        "print(x(10))"
      ],
      "execution_count": null,
      "outputs": [
        {
          "output_type": "stream",
          "text": [
            "15\n"
          ],
          "name": "stdout"
        }
      ]
    },
    {
      "cell_type": "code",
      "metadata": {
        "id": "zTrTkHmZDJ5B",
        "colab": {
          "base_uri": "https://localhost:8080/",
          "height": 34
        },
        "outputId": "902cce90-d912-4285-f182-723d62d85d46"
      },
      "source": [
        "# split function\n",
        "\n",
        "str1 = \"Twitter Sentiment Analysis\"\n",
        "x = str1.split()\n",
        "print (x)"
      ],
      "execution_count": null,
      "outputs": [
        {
          "output_type": "stream",
          "text": [
            "['Twitter', 'Sentiment', 'Analysis']\n"
          ],
          "name": "stdout"
        }
      ]
    },
    {
      "cell_type": "code",
      "metadata": {
        "id": "UF0opT8bDq0s",
        "colab": {
          "base_uri": "https://localhost:8080/",
          "height": 34
        },
        "outputId": "dcf579e8-fa59-4829-becf-12de7bd41dc4"
      },
      "source": [
        "str1 = \"Twitter#Sentiment#Analysis\"\n",
        "x = str1.split('#')\n",
        "print (x)"
      ],
      "execution_count": null,
      "outputs": [
        {
          "output_type": "stream",
          "text": [
            "['Twitter', 'Sentiment', 'Analysis']\n"
          ],
          "name": "stdout"
        }
      ]
    },
    {
      "cell_type": "code",
      "metadata": {
        "id": "Bf1QXjEHEBED",
        "colab": {
          "base_uri": "https://localhost:8080/",
          "height": 204
        },
        "outputId": "db61900f-a7f9-4af2-df08-3070e0ef0928"
      },
      "source": [
        "# Number of Words\n",
        "train['word_count'] = train['tweet'].apply(lambda x: len(str(x).split(\" \")))\n",
        "train[['tweet','word_count']].head()"
      ],
      "execution_count": null,
      "outputs": [
        {
          "output_type": "execute_result",
          "data": {
            "text/html": [
              "<div>\n",
              "<style scoped>\n",
              "    .dataframe tbody tr th:only-of-type {\n",
              "        vertical-align: middle;\n",
              "    }\n",
              "\n",
              "    .dataframe tbody tr th {\n",
              "        vertical-align: top;\n",
              "    }\n",
              "\n",
              "    .dataframe thead th {\n",
              "        text-align: right;\n",
              "    }\n",
              "</style>\n",
              "<table border=\"1\" class=\"dataframe\">\n",
              "  <thead>\n",
              "    <tr style=\"text-align: right;\">\n",
              "      <th></th>\n",
              "      <th>tweet</th>\n",
              "      <th>word_count</th>\n",
              "    </tr>\n",
              "  </thead>\n",
              "  <tbody>\n",
              "    <tr>\n",
              "      <th>0</th>\n",
              "      <td>@user when a father is dysfunctional and is s...</td>\n",
              "      <td>21</td>\n",
              "    </tr>\n",
              "    <tr>\n",
              "      <th>1</th>\n",
              "      <td>@user @user thanks for #lyft credit i can't us...</td>\n",
              "      <td>22</td>\n",
              "    </tr>\n",
              "    <tr>\n",
              "      <th>2</th>\n",
              "      <td>bihday your majesty</td>\n",
              "      <td>5</td>\n",
              "    </tr>\n",
              "    <tr>\n",
              "      <th>3</th>\n",
              "      <td>#model   i love u take with u all the time in ...</td>\n",
              "      <td>17</td>\n",
              "    </tr>\n",
              "    <tr>\n",
              "      <th>4</th>\n",
              "      <td>factsguide: society now    #motivation</td>\n",
              "      <td>8</td>\n",
              "    </tr>\n",
              "  </tbody>\n",
              "</table>\n",
              "</div>"
            ],
            "text/plain": [
              "                                               tweet  word_count\n",
              "0   @user when a father is dysfunctional and is s...          21\n",
              "1  @user @user thanks for #lyft credit i can't us...          22\n",
              "2                                bihday your majesty           5\n",
              "3  #model   i love u take with u all the time in ...          17\n",
              "4             factsguide: society now    #motivation           8"
            ]
          },
          "metadata": {
            "tags": []
          },
          "execution_count": 7
        }
      ]
    },
    {
      "cell_type": "code",
      "metadata": {
        "id": "Qz4-wfAKGYWT",
        "colab": {
          "base_uri": "https://localhost:8080/",
          "height": 204
        },
        "outputId": "7b669d56-5954-44cd-a732-846f5f89f908"
      },
      "source": [
        "# number of characters\n",
        "train['char_count'] = train['tweet'].str.len()\n",
        "train[['tweet','char_count']].head()"
      ],
      "execution_count": null,
      "outputs": [
        {
          "output_type": "execute_result",
          "data": {
            "text/html": [
              "<div>\n",
              "<style scoped>\n",
              "    .dataframe tbody tr th:only-of-type {\n",
              "        vertical-align: middle;\n",
              "    }\n",
              "\n",
              "    .dataframe tbody tr th {\n",
              "        vertical-align: top;\n",
              "    }\n",
              "\n",
              "    .dataframe thead th {\n",
              "        text-align: right;\n",
              "    }\n",
              "</style>\n",
              "<table border=\"1\" class=\"dataframe\">\n",
              "  <thead>\n",
              "    <tr style=\"text-align: right;\">\n",
              "      <th></th>\n",
              "      <th>tweet</th>\n",
              "      <th>char_count</th>\n",
              "    </tr>\n",
              "  </thead>\n",
              "  <tbody>\n",
              "    <tr>\n",
              "      <th>0</th>\n",
              "      <td>@user when a father is dysfunctional and is s...</td>\n",
              "      <td>102</td>\n",
              "    </tr>\n",
              "    <tr>\n",
              "      <th>1</th>\n",
              "      <td>@user @user thanks for #lyft credit i can't us...</td>\n",
              "      <td>122</td>\n",
              "    </tr>\n",
              "    <tr>\n",
              "      <th>2</th>\n",
              "      <td>bihday your majesty</td>\n",
              "      <td>21</td>\n",
              "    </tr>\n",
              "    <tr>\n",
              "      <th>3</th>\n",
              "      <td>#model   i love u take with u all the time in ...</td>\n",
              "      <td>86</td>\n",
              "    </tr>\n",
              "    <tr>\n",
              "      <th>4</th>\n",
              "      <td>factsguide: society now    #motivation</td>\n",
              "      <td>39</td>\n",
              "    </tr>\n",
              "  </tbody>\n",
              "</table>\n",
              "</div>"
            ],
            "text/plain": [
              "                                               tweet  char_count\n",
              "0   @user when a father is dysfunctional and is s...         102\n",
              "1  @user @user thanks for #lyft credit i can't us...         122\n",
              "2                                bihday your majesty          21\n",
              "3  #model   i love u take with u all the time in ...          86\n",
              "4             factsguide: society now    #motivation          39"
            ]
          },
          "metadata": {
            "tags": []
          },
          "execution_count": 8
        }
      ]
    },
    {
      "cell_type": "code",
      "metadata": {
        "id": "y1AOW_cOHBMV",
        "colab": {
          "base_uri": "https://localhost:8080/",
          "height": 68
        },
        "outputId": "192bd223-8c7d-4241-f481-749bc4428080"
      },
      "source": [
        "# number of stopwords\n",
        "import nltk\n",
        "nltk.download('stopwords')"
      ],
      "execution_count": null,
      "outputs": [
        {
          "output_type": "stream",
          "text": [
            "[nltk_data] Downloading package stopwords to /root/nltk_data...\n",
            "[nltk_data]   Unzipping corpora/stopwords.zip.\n"
          ],
          "name": "stdout"
        },
        {
          "output_type": "execute_result",
          "data": {
            "text/plain": [
              "True"
            ]
          },
          "metadata": {
            "tags": []
          },
          "execution_count": 9
        }
      ]
    },
    {
      "cell_type": "code",
      "metadata": {
        "id": "g6fXah-VH9p_",
        "colab": {
          "base_uri": "https://localhost:8080/",
          "height": 204
        },
        "outputId": "b3a7dbfd-0cb8-479f-89a5-c9f7bf074421"
      },
      "source": [
        "# number of stopwords\n",
        "from nltk.corpus import stopwords\n",
        "stop = stopwords.words('english')\n",
        "train['stopwords']=train['tweet'].apply(lambda x: len([x for x in x.split() if x in stop]))\n",
        "train[['tweet','stopwords']].head()"
      ],
      "execution_count": null,
      "outputs": [
        {
          "output_type": "execute_result",
          "data": {
            "text/html": [
              "<div>\n",
              "<style scoped>\n",
              "    .dataframe tbody tr th:only-of-type {\n",
              "        vertical-align: middle;\n",
              "    }\n",
              "\n",
              "    .dataframe tbody tr th {\n",
              "        vertical-align: top;\n",
              "    }\n",
              "\n",
              "    .dataframe thead th {\n",
              "        text-align: right;\n",
              "    }\n",
              "</style>\n",
              "<table border=\"1\" class=\"dataframe\">\n",
              "  <thead>\n",
              "    <tr style=\"text-align: right;\">\n",
              "      <th></th>\n",
              "      <th>tweet</th>\n",
              "      <th>stopwords</th>\n",
              "    </tr>\n",
              "  </thead>\n",
              "  <tbody>\n",
              "    <tr>\n",
              "      <th>0</th>\n",
              "      <td>@user when a father is dysfunctional and is s...</td>\n",
              "      <td>10</td>\n",
              "    </tr>\n",
              "    <tr>\n",
              "      <th>1</th>\n",
              "      <td>@user @user thanks for #lyft credit i can't us...</td>\n",
              "      <td>5</td>\n",
              "    </tr>\n",
              "    <tr>\n",
              "      <th>2</th>\n",
              "      <td>bihday your majesty</td>\n",
              "      <td>1</td>\n",
              "    </tr>\n",
              "    <tr>\n",
              "      <th>3</th>\n",
              "      <td>#model   i love u take with u all the time in ...</td>\n",
              "      <td>5</td>\n",
              "    </tr>\n",
              "    <tr>\n",
              "      <th>4</th>\n",
              "      <td>factsguide: society now    #motivation</td>\n",
              "      <td>1</td>\n",
              "    </tr>\n",
              "  </tbody>\n",
              "</table>\n",
              "</div>"
            ],
            "text/plain": [
              "                                               tweet  stopwords\n",
              "0   @user when a father is dysfunctional and is s...         10\n",
              "1  @user @user thanks for #lyft credit i can't us...          5\n",
              "2                                bihday your majesty          1\n",
              "3  #model   i love u take with u all the time in ...          5\n",
              "4             factsguide: society now    #motivation          1"
            ]
          },
          "metadata": {
            "tags": []
          },
          "execution_count": 10
        }
      ]
    },
    {
      "cell_type": "code",
      "metadata": {
        "id": "vvz5V6CIK8td",
        "colab": {
          "base_uri": "https://localhost:8080/",
          "height": 204
        },
        "outputId": "e60c099f-b58b-427f-f7f2-eee458201e9e"
      },
      "source": [
        "# number of hashtags\n",
        "train['hashtags'] = train['tweet'].apply(lambda x: \n",
        "                                         len([x for x in x.split()\n",
        "                                             if x.startswith('#')]))\n",
        "train[['tweet','hashtags']].head()\n"
      ],
      "execution_count": null,
      "outputs": [
        {
          "output_type": "execute_result",
          "data": {
            "text/html": [
              "<div>\n",
              "<style scoped>\n",
              "    .dataframe tbody tr th:only-of-type {\n",
              "        vertical-align: middle;\n",
              "    }\n",
              "\n",
              "    .dataframe tbody tr th {\n",
              "        vertical-align: top;\n",
              "    }\n",
              "\n",
              "    .dataframe thead th {\n",
              "        text-align: right;\n",
              "    }\n",
              "</style>\n",
              "<table border=\"1\" class=\"dataframe\">\n",
              "  <thead>\n",
              "    <tr style=\"text-align: right;\">\n",
              "      <th></th>\n",
              "      <th>tweet</th>\n",
              "      <th>hashtags</th>\n",
              "    </tr>\n",
              "  </thead>\n",
              "  <tbody>\n",
              "    <tr>\n",
              "      <th>0</th>\n",
              "      <td>@user when a father is dysfunctional and is s...</td>\n",
              "      <td>1</td>\n",
              "    </tr>\n",
              "    <tr>\n",
              "      <th>1</th>\n",
              "      <td>@user @user thanks for #lyft credit i can't us...</td>\n",
              "      <td>3</td>\n",
              "    </tr>\n",
              "    <tr>\n",
              "      <th>2</th>\n",
              "      <td>bihday your majesty</td>\n",
              "      <td>0</td>\n",
              "    </tr>\n",
              "    <tr>\n",
              "      <th>3</th>\n",
              "      <td>#model   i love u take with u all the time in ...</td>\n",
              "      <td>1</td>\n",
              "    </tr>\n",
              "    <tr>\n",
              "      <th>4</th>\n",
              "      <td>factsguide: society now    #motivation</td>\n",
              "      <td>1</td>\n",
              "    </tr>\n",
              "  </tbody>\n",
              "</table>\n",
              "</div>"
            ],
            "text/plain": [
              "                                               tweet  hashtags\n",
              "0   @user when a father is dysfunctional and is s...         1\n",
              "1  @user @user thanks for #lyft credit i can't us...         3\n",
              "2                                bihday your majesty         0\n",
              "3  #model   i love u take with u all the time in ...         1\n",
              "4             factsguide: society now    #motivation         1"
            ]
          },
          "metadata": {
            "tags": []
          },
          "execution_count": 11
        }
      ]
    },
    {
      "cell_type": "code",
      "metadata": {
        "id": "HOVXNb19N-Qa",
        "colab": {
          "base_uri": "https://localhost:8080/",
          "height": 979
        },
        "outputId": "316e454a-5d31-4206-c1fa-d746afc0e79a"
      },
      "source": [
        "# number of digits\n",
        "train['digit'] = train['tweet'].apply(lambda x: \n",
        "                                         len([x for x in x.split()\n",
        "                                             if x.isdigit()]))\n",
        "train[['tweet','digit']].head(30)\n"
      ],
      "execution_count": null,
      "outputs": [
        {
          "output_type": "execute_result",
          "data": {
            "text/html": [
              "<div>\n",
              "<style scoped>\n",
              "    .dataframe tbody tr th:only-of-type {\n",
              "        vertical-align: middle;\n",
              "    }\n",
              "\n",
              "    .dataframe tbody tr th {\n",
              "        vertical-align: top;\n",
              "    }\n",
              "\n",
              "    .dataframe thead th {\n",
              "        text-align: right;\n",
              "    }\n",
              "</style>\n",
              "<table border=\"1\" class=\"dataframe\">\n",
              "  <thead>\n",
              "    <tr style=\"text-align: right;\">\n",
              "      <th></th>\n",
              "      <th>tweet</th>\n",
              "      <th>digit</th>\n",
              "    </tr>\n",
              "  </thead>\n",
              "  <tbody>\n",
              "    <tr>\n",
              "      <th>0</th>\n",
              "      <td>@user when a father is dysfunctional and is s...</td>\n",
              "      <td>0</td>\n",
              "    </tr>\n",
              "    <tr>\n",
              "      <th>1</th>\n",
              "      <td>@user @user thanks for #lyft credit i can't us...</td>\n",
              "      <td>0</td>\n",
              "    </tr>\n",
              "    <tr>\n",
              "      <th>2</th>\n",
              "      <td>bihday your majesty</td>\n",
              "      <td>0</td>\n",
              "    </tr>\n",
              "    <tr>\n",
              "      <th>3</th>\n",
              "      <td>#model   i love u take with u all the time in ...</td>\n",
              "      <td>0</td>\n",
              "    </tr>\n",
              "    <tr>\n",
              "      <th>4</th>\n",
              "      <td>factsguide: society now    #motivation</td>\n",
              "      <td>0</td>\n",
              "    </tr>\n",
              "    <tr>\n",
              "      <th>5</th>\n",
              "      <td>[2/2] huge fan fare and big talking before the...</td>\n",
              "      <td>0</td>\n",
              "    </tr>\n",
              "    <tr>\n",
              "      <th>6</th>\n",
              "      <td>@user camping tomorrow @user @user @user @use...</td>\n",
              "      <td>0</td>\n",
              "    </tr>\n",
              "    <tr>\n",
              "      <th>7</th>\n",
              "      <td>the next school year is the year for exams.ð...</td>\n",
              "      <td>0</td>\n",
              "    </tr>\n",
              "    <tr>\n",
              "      <th>8</th>\n",
              "      <td>we won!!! love the land!!! #allin #cavs #champ...</td>\n",
              "      <td>0</td>\n",
              "    </tr>\n",
              "    <tr>\n",
              "      <th>9</th>\n",
              "      <td>@user @user welcome here !  i'm   it's so #gr...</td>\n",
              "      <td>0</td>\n",
              "    </tr>\n",
              "    <tr>\n",
              "      <th>10</th>\n",
              "      <td>â #ireland consumer price index (mom) climb...</td>\n",
              "      <td>0</td>\n",
              "    </tr>\n",
              "    <tr>\n",
              "      <th>11</th>\n",
              "      <td>we are so selfish. #orlando #standwithorlando ...</td>\n",
              "      <td>0</td>\n",
              "    </tr>\n",
              "    <tr>\n",
              "      <th>12</th>\n",
              "      <td>i get to see my daddy today!!   #80days #getti...</td>\n",
              "      <td>0</td>\n",
              "    </tr>\n",
              "    <tr>\n",
              "      <th>13</th>\n",
              "      <td>@user #cnn calls #michigan middle school 'buil...</td>\n",
              "      <td>0</td>\n",
              "    </tr>\n",
              "    <tr>\n",
              "      <th>14</th>\n",
              "      <td>no comment!  in #australia   #opkillingbay #se...</td>\n",
              "      <td>0</td>\n",
              "    </tr>\n",
              "    <tr>\n",
              "      <th>15</th>\n",
              "      <td>ouch...junior is angryð#got7 #junior #yugyo...</td>\n",
              "      <td>0</td>\n",
              "    </tr>\n",
              "    <tr>\n",
              "      <th>16</th>\n",
              "      <td>i am thankful for having a paner. #thankful #p...</td>\n",
              "      <td>0</td>\n",
              "    </tr>\n",
              "    <tr>\n",
              "      <th>17</th>\n",
              "      <td>retweet if you agree!</td>\n",
              "      <td>0</td>\n",
              "    </tr>\n",
              "    <tr>\n",
              "      <th>18</th>\n",
              "      <td>its #friday! ð smiles all around via ig use...</td>\n",
              "      <td>0</td>\n",
              "    </tr>\n",
              "    <tr>\n",
              "      <th>19</th>\n",
              "      <td>as we all know, essential oils are not made of...</td>\n",
              "      <td>0</td>\n",
              "    </tr>\n",
              "    <tr>\n",
              "      <th>20</th>\n",
              "      <td>#euro2016 people blaming ha for conceded goal ...</td>\n",
              "      <td>0</td>\n",
              "    </tr>\n",
              "    <tr>\n",
              "      <th>21</th>\n",
              "      <td>sad little dude..   #badday #coneofshame #cats...</td>\n",
              "      <td>0</td>\n",
              "    </tr>\n",
              "    <tr>\n",
              "      <th>22</th>\n",
              "      <td>product of the day: happy man #wine tool  who'...</td>\n",
              "      <td>0</td>\n",
              "    </tr>\n",
              "    <tr>\n",
              "      <th>23</th>\n",
              "      <td>@user @user lumpy says i am a . prove it lumpy.</td>\n",
              "      <td>0</td>\n",
              "    </tr>\n",
              "    <tr>\n",
              "      <th>24</th>\n",
              "      <td>@user #tgif   #ff to my #gamedev #indiedev #i...</td>\n",
              "      <td>0</td>\n",
              "    </tr>\n",
              "    <tr>\n",
              "      <th>25</th>\n",
              "      <td>beautiful sign by vendor 80 for $45.00!! #upsi...</td>\n",
              "      <td>1</td>\n",
              "    </tr>\n",
              "    <tr>\n",
              "      <th>26</th>\n",
              "      <td>@user all #smiles when #media is   !! ðð...</td>\n",
              "      <td>0</td>\n",
              "    </tr>\n",
              "    <tr>\n",
              "      <th>27</th>\n",
              "      <td>we had a great panel on the mediatization of t...</td>\n",
              "      <td>0</td>\n",
              "    </tr>\n",
              "    <tr>\n",
              "      <th>28</th>\n",
              "      <td>happy father's day @user ðððð</td>\n",
              "      <td>0</td>\n",
              "    </tr>\n",
              "    <tr>\n",
              "      <th>29</th>\n",
              "      <td>50 people went to nightclub to have a good nig...</td>\n",
              "      <td>2</td>\n",
              "    </tr>\n",
              "  </tbody>\n",
              "</table>\n",
              "</div>"
            ],
            "text/plain": [
              "                                                tweet  digit\n",
              "0    @user when a father is dysfunctional and is s...      0\n",
              "1   @user @user thanks for #lyft credit i can't us...      0\n",
              "2                                 bihday your majesty      0\n",
              "3   #model   i love u take with u all the time in ...      0\n",
              "4              factsguide: society now    #motivation      0\n",
              "5   [2/2] huge fan fare and big talking before the...      0\n",
              "6    @user camping tomorrow @user @user @user @use...      0\n",
              "7   the next school year is the year for exams.ð...      0\n",
              "8   we won!!! love the land!!! #allin #cavs #champ...      0\n",
              "9    @user @user welcome here !  i'm   it's so #gr...      0\n",
              "10   â #ireland consumer price index (mom) climb...      0\n",
              "11  we are so selfish. #orlando #standwithorlando ...      0\n",
              "12  i get to see my daddy today!!   #80days #getti...      0\n",
              "13  @user #cnn calls #michigan middle school 'buil...      0\n",
              "14  no comment!  in #australia   #opkillingbay #se...      0\n",
              "15  ouch...junior is angryð#got7 #junior #yugyo...      0\n",
              "16  i am thankful for having a paner. #thankful #p...      0\n",
              "17                             retweet if you agree!       0\n",
              "18  its #friday! ð smiles all around via ig use...      0\n",
              "19  as we all know, essential oils are not made of...      0\n",
              "20  #euro2016 people blaming ha for conceded goal ...      0\n",
              "21  sad little dude..   #badday #coneofshame #cats...      0\n",
              "22  product of the day: happy man #wine tool  who'...      0\n",
              "23    @user @user lumpy says i am a . prove it lumpy.      0\n",
              "24   @user #tgif   #ff to my #gamedev #indiedev #i...      0\n",
              "25  beautiful sign by vendor 80 for $45.00!! #upsi...      1\n",
              "26   @user all #smiles when #media is   !! ðð...      0\n",
              "27  we had a great panel on the mediatization of t...      0\n",
              "28        happy father's day @user ðððð        0\n",
              "29  50 people went to nightclub to have a good nig...      2"
            ]
          },
          "metadata": {
            "tags": []
          },
          "execution_count": 12
        }
      ]
    },
    {
      "cell_type": "code",
      "metadata": {
        "id": "JqM7PTSbP1eO",
        "colab": {
          "base_uri": "https://localhost:8080/",
          "height": 119
        },
        "outputId": "e02ee6c4-232b-4008-9d05-3b438af1b14d"
      },
      "source": [
        "# Pre-Processing\n",
        "# Convert Tweets in a Lower Case\n",
        "train['tweet'] = train['tweet'].apply(lambda x: \" \".join(x.lower() for x in x.split()))\n",
        "train['tweet'].head()"
      ],
      "execution_count": null,
      "outputs": [
        {
          "output_type": "execute_result",
          "data": {
            "text/plain": [
              "0    @user when a father is dysfunctional and is so...\n",
              "1    @user @user thanks for #lyft credit i can't us...\n",
              "2                                  bihday your majesty\n",
              "3    #model i love u take with u all the time in ur...\n",
              "4                  factsguide: society now #motivation\n",
              "Name: tweet, dtype: object"
            ]
          },
          "metadata": {
            "tags": []
          },
          "execution_count": 13
        }
      ]
    },
    {
      "cell_type": "code",
      "metadata": {
        "id": "ydzVfjV5RHlj",
        "colab": {
          "base_uri": "https://localhost:8080/",
          "height": 204
        },
        "outputId": "a9786f34-6a0e-4f99-dcce-b460a7baf684"
      },
      "source": [
        "# Remove Punctuations\n",
        "train['tweet'] = train['tweet'].str.replace('[^\\w\\s]','')\n",
        "# Regular Expression [^\\w\\s]\n",
        "# ^ --> begining of regular expression\n",
        "# \\w --> looks for all characters including a-z A-Z 0-9\n",
        "# \\s --> include whitespaces \n",
        "train['tweet'].head(10)"
      ],
      "execution_count": null,
      "outputs": [
        {
          "output_type": "execute_result",
          "data": {
            "text/plain": [
              "0    user when a father is dysfunctional and is so ...\n",
              "1    user user thanks for lyft credit i cant use ca...\n",
              "2                                  bihday your majesty\n",
              "3    model i love u take with u all the time in urð...\n",
              "4                    factsguide society now motivation\n",
              "5    22 huge fan fare and big talking before they l...\n",
              "6    user camping tomorrow user user user user user...\n",
              "7    the next school year is the year for examsð ca...\n",
              "8    we won love the land allin cavs champions clev...\n",
              "9               user user welcome here  im its so gr8 \n",
              "Name: tweet, dtype: object"
            ]
          },
          "metadata": {
            "tags": []
          },
          "execution_count": 14
        }
      ]
    },
    {
      "cell_type": "code",
      "metadata": {
        "id": "Qch_EgbQTXh8",
        "colab": {
          "base_uri": "https://localhost:8080/",
          "height": 204
        },
        "outputId": "6fcd94ee-cf19-48d6-94c4-6d8916cf82cd"
      },
      "source": [
        "# Removal of stopwords\n",
        "stop = stopwords.words('english')\n",
        "\n",
        "train['tweet'] = train['tweet'].apply(lambda x: \" \".join(x for x in x.split()\n",
        "                                       if x not in stop))\n",
        "train['tweet'].head(10)"
      ],
      "execution_count": null,
      "outputs": [
        {
          "output_type": "execute_result",
          "data": {
            "text/plain": [
              "0    user father dysfunctional selfish drags kids d...\n",
              "1    user user thanks lyft credit cant use cause do...\n",
              "2                                       bihday majesty\n",
              "3                model love u take u time urð ðððð ððð\n",
              "4                        factsguide society motivation\n",
              "5    22 huge fan fare big talking leave chaos pay d...\n",
              "6    user camping tomorrow user user user user user...\n",
              "7    next school year year examsð cant think ð scho...\n",
              "8    love land allin cavs champions cleveland cleve...\n",
              "9                             user user welcome im gr8\n",
              "Name: tweet, dtype: object"
            ]
          },
          "metadata": {
            "tags": []
          },
          "execution_count": 16
        }
      ]
    },
    {
      "cell_type": "code",
      "metadata": {
        "id": "jnegXDFXUhMJ",
        "colab": {
          "base_uri": "https://localhost:8080/",
          "height": 204
        },
        "outputId": "5dbeeca2-9fd8-4553-f171-7a98726ba546"
      },
      "source": [
        "train['stopwords']=train['tweet'].apply(lambda x: len([x for x in x.split() if x in stop]))\n",
        "train[['tweet','stopwords']].head()"
      ],
      "execution_count": null,
      "outputs": [
        {
          "output_type": "execute_result",
          "data": {
            "text/html": [
              "<div>\n",
              "<style scoped>\n",
              "    .dataframe tbody tr th:only-of-type {\n",
              "        vertical-align: middle;\n",
              "    }\n",
              "\n",
              "    .dataframe tbody tr th {\n",
              "        vertical-align: top;\n",
              "    }\n",
              "\n",
              "    .dataframe thead th {\n",
              "        text-align: right;\n",
              "    }\n",
              "</style>\n",
              "<table border=\"1\" class=\"dataframe\">\n",
              "  <thead>\n",
              "    <tr style=\"text-align: right;\">\n",
              "      <th></th>\n",
              "      <th>tweet</th>\n",
              "      <th>stopwords</th>\n",
              "    </tr>\n",
              "  </thead>\n",
              "  <tbody>\n",
              "    <tr>\n",
              "      <th>0</th>\n",
              "      <td>user father dysfunctional selfish drags kids d...</td>\n",
              "      <td>0</td>\n",
              "    </tr>\n",
              "    <tr>\n",
              "      <th>1</th>\n",
              "      <td>user user thanks lyft credit cant use cause do...</td>\n",
              "      <td>0</td>\n",
              "    </tr>\n",
              "    <tr>\n",
              "      <th>2</th>\n",
              "      <td>bihday majesty</td>\n",
              "      <td>0</td>\n",
              "    </tr>\n",
              "    <tr>\n",
              "      <th>3</th>\n",
              "      <td>model love u take u time urð ðððð ððð</td>\n",
              "      <td>0</td>\n",
              "    </tr>\n",
              "    <tr>\n",
              "      <th>4</th>\n",
              "      <td>factsguide society motivation</td>\n",
              "      <td>0</td>\n",
              "    </tr>\n",
              "  </tbody>\n",
              "</table>\n",
              "</div>"
            ],
            "text/plain": [
              "                                               tweet  stopwords\n",
              "0  user father dysfunctional selfish drags kids d...          0\n",
              "1  user user thanks lyft credit cant use cause do...          0\n",
              "2                                     bihday majesty          0\n",
              "3              model love u take u time urð ðððð ððð          0\n",
              "4                      factsguide society motivation          0"
            ]
          },
          "metadata": {
            "tags": []
          },
          "execution_count": 17
        }
      ]
    },
    {
      "cell_type": "code",
      "metadata": {
        "id": "F1myfgf6WmZU",
        "colab": {
          "base_uri": "https://localhost:8080/",
          "height": 68
        },
        "outputId": "8b96d6df-3748-4be0-f053-b630389c0fda"
      },
      "source": [
        "!pip install -U textblob"
      ],
      "execution_count": null,
      "outputs": [
        {
          "output_type": "stream",
          "text": [
            "Requirement already up-to-date: textblob in /usr/local/lib/python3.6/dist-packages (0.15.3)\n",
            "Requirement already satisfied, skipping upgrade: nltk>=3.1 in /usr/local/lib/python3.6/dist-packages (from textblob) (3.2.5)\n",
            "Requirement already satisfied, skipping upgrade: six in /usr/local/lib/python3.6/dist-packages (from nltk>=3.1->textblob) (1.12.0)\n"
          ],
          "name": "stdout"
        }
      ]
    },
    {
      "cell_type": "code",
      "metadata": {
        "id": "l70aGvaYXQF_",
        "colab": {
          "base_uri": "https://localhost:8080/",
          "height": 34
        },
        "outputId": "0a43e070-8d7e-4503-8bb7-3f55d9e5b065"
      },
      "source": [
        "# Spelling Correction\n",
        "# Tokenization\n",
        "# Stemming\n",
        "# Sentiment Analysis\n",
        "\n",
        "from textblob import TextBlob\n",
        "# correct() \n",
        "str1 = 'lets chekc thsi speling'\n",
        "TextBlob(str1).correct()"
      ],
      "execution_count": null,
      "outputs": [
        {
          "output_type": "execute_result",
          "data": {
            "text/plain": [
              "TextBlob(\"lets check this spelling\")"
            ]
          },
          "metadata": {
            "tags": []
          },
          "execution_count": 19
        }
      ]
    },
    {
      "cell_type": "code",
      "metadata": {
        "id": "kGZfewBpYvC1",
        "colab": {
          "base_uri": "https://localhost:8080/",
          "height": 34
        },
        "outputId": "497e043d-4354-41a3-ba51-41484b6f4ab2"
      },
      "source": [
        "from textblob import Word\n",
        "# spellcheck() --> return you a tuple (suggestion,confidence)\n",
        "w = Word('sppeling')\n",
        "print (w.spellcheck())"
      ],
      "execution_count": null,
      "outputs": [
        {
          "output_type": "stream",
          "text": [
            "[('spoiling', 0.35), ('appealing', 0.25), ('spelling', 0.2), ('speeding', 0.1), ('peeling', 0.1)]\n"
          ],
          "name": "stdout"
        }
      ]
    },
    {
      "cell_type": "code",
      "metadata": {
        "id": "mQe3IcimZjKr",
        "colab": {
          "base_uri": "https://localhost:8080/",
          "height": 374
        },
        "outputId": "82a9c8b9-e68c-426e-81a1-e0a1e1693c9f"
      },
      "source": [
        "train['tweet'][:20].apply(lambda x: TextBlob(x).correct())"
      ],
      "execution_count": null,
      "outputs": [
        {
          "output_type": "execute_result",
          "data": {
            "text/plain": [
              "0     (u, s, e, r,  , f, a, t, h, e, r,  , d, y, s, ...\n",
              "1     (u, s, e, r,  , u, s, e, r,  , t, h, a, n, k, ...\n",
              "2            (m, i, d, d, a, y,  , m, a, j, e, s, t, y)\n",
              "3     (m, o, d, e, l,  , l, o, v, e,  , u,  , t, a, ...\n",
              "4     (f, a, c, t, s, g, u, i, d, e,  , s, o, c, i, ...\n",
              "5     (2, 2,  , h, u, g, e,  , f, a, n,  , f, a, r, ...\n",
              "6     (u, s, e, r,  , c, a, m, p, i, n, g,  , t, o, ...\n",
              "7     (n, e, x, t,  , s, c, h, o, o, l,  , y, e, a, ...\n",
              "8     (l, o, v, e,  , l, a, n, d,  , a, l, l, e, n, ...\n",
              "9     (u, s, e, r,  , u, s, e, r,  , w, e, l, c, o, ...\n",
              "10    (â,  , i, r, e, l, a, n, d,  , c, o, n, s, u, ...\n",
              "11    (s, e, l, f, i, s, h,  , o, r, l, a, n, d, o, ...\n",
              "12    (g, e, t,  , s, e, e,  , d, a, d, d, y,  , t, ...\n",
              "13    (u, s, e, r,  , c, a, n,  , c, a, l, l, s,  , ...\n",
              "14    (c, o, m, m, e, n, t,  , a, u, s, t, r, a, l, ...\n",
              "15    (o, u, c, h, j, u, n, i, o, r,  , a, n, g, r, ...\n",
              "16    (t, h, a, n, k, f, u, l,  , p, a, p, e, r,  , ...\n",
              "17              (b, e, t, w, e, e, n,  , a, g, r, e, e)\n",
              "18    (f, r, i, d, a, y,  , ð,  , s, m, i, l, e, s, ...\n",
              "19    (k, n, o, w,  , e, s, s, e, n, t, i, a, l,  , ...\n",
              "Name: tweet, dtype: object"
            ]
          },
          "metadata": {
            "tags": []
          },
          "execution_count": 22
        }
      ]
    },
    {
      "cell_type": "code",
      "metadata": {
        "id": "Zn6rijW8aQ1H",
        "colab": {
          "base_uri": "https://localhost:8080/",
          "height": 68
        },
        "outputId": "93afaaec-eb1c-4475-be90-4b75f9b14d03"
      },
      "source": [
        "# Tokenization\n",
        "import nltk\n",
        "nltk.download('punkt')\n"
      ],
      "execution_count": null,
      "outputs": [
        {
          "output_type": "stream",
          "text": [
            "[nltk_data] Downloading package punkt to /root/nltk_data...\n",
            "[nltk_data]   Unzipping tokenizers/punkt.zip.\n"
          ],
          "name": "stdout"
        },
        {
          "output_type": "execute_result",
          "data": {
            "text/plain": [
              "True"
            ]
          },
          "metadata": {
            "tags": []
          },
          "execution_count": 23
        }
      ]
    },
    {
      "cell_type": "code",
      "metadata": {
        "id": "Ve0Vz220aqH0",
        "colab": {
          "base_uri": "https://localhost:8080/",
          "height": 34
        },
        "outputId": "8242664b-c0bb-48e2-ac1f-b89cd06bdd08"
      },
      "source": [
        "from nltk.tokenize import word_tokenize\n",
        "data = \"The quick brown fox jumps over the little lazy dog\"\n",
        "print (word_tokenize(data))"
      ],
      "execution_count": null,
      "outputs": [
        {
          "output_type": "stream",
          "text": [
            "['The', 'quick', 'brown', 'fox', 'jumps', 'over', 'the', 'little', 'lazy', 'dog']\n"
          ],
          "name": "stdout"
        }
      ]
    },
    {
      "cell_type": "code",
      "metadata": {
        "id": "_kZFNO8tbJZ3",
        "colab": {
          "base_uri": "https://localhost:8080/",
          "height": 34
        },
        "outputId": "d68f3a21-0712-453b-b82e-e8389999592d"
      },
      "source": [
        "TextBlob(train['tweet'][1]).words"
      ],
      "execution_count": null,
      "outputs": [
        {
          "output_type": "execute_result",
          "data": {
            "text/plain": [
              "WordList(['user', 'user', 'thanks', 'lyft', 'credit', 'cant', 'use', 'cause', 'dont', 'offer', 'wheelchair', 'vans', 'pdx', 'disapointed', 'getthanked'])"
            ]
          },
          "metadata": {
            "tags": []
          },
          "execution_count": 25
        }
      ]
    },
    {
      "cell_type": "code",
      "metadata": {
        "id": "uEVa3KeEbaQk",
        "colab": {
          "base_uri": "https://localhost:8080/",
          "height": 170
        },
        "outputId": "b23cdb23-d848-485d-c6af-7755b7873bc4"
      },
      "source": [
        "# difference between splitting and tokenization\n",
        "data = \"This is the tutorial of python, nltk , textProcessing\"\n",
        "data.split()"
      ],
      "execution_count": null,
      "outputs": [
        {
          "output_type": "execute_result",
          "data": {
            "text/plain": [
              "['This',\n",
              " 'is',\n",
              " 'the',\n",
              " 'tutorial',\n",
              " 'of',\n",
              " 'python,',\n",
              " 'nltk',\n",
              " ',',\n",
              " 'textProcessing']"
            ]
          },
          "metadata": {
            "tags": []
          },
          "execution_count": 29
        }
      ]
    },
    {
      "cell_type": "code",
      "metadata": {
        "id": "rRaCt0HqbxIr",
        "colab": {
          "base_uri": "https://localhost:8080/",
          "height": 187
        },
        "outputId": "4bdb3533-66a1-442c-ace1-75b83f4bf816"
      },
      "source": [
        "word_tokenize(data)"
      ],
      "execution_count": null,
      "outputs": [
        {
          "output_type": "execute_result",
          "data": {
            "text/plain": [
              "['This',\n",
              " 'is',\n",
              " 'the',\n",
              " 'tutorial',\n",
              " 'of',\n",
              " 'python',\n",
              " ',',\n",
              " 'nltk',\n",
              " ',',\n",
              " 'textProcessing']"
            ]
          },
          "metadata": {
            "tags": []
          },
          "execution_count": 30
        }
      ]
    },
    {
      "cell_type": "code",
      "metadata": {
        "id": "nnJ8zFedc39C",
        "colab": {
          "base_uri": "https://localhost:8080/",
          "height": 374
        },
        "outputId": "647bc450-4782-45e2-a54e-1a6a9c3c143c"
      },
      "source": [
        "# Stemming \n",
        "\n",
        "from nltk.stem import PorterStemmer\n",
        "# create an object of PorterStemmer\n",
        "st = PorterStemmer()\n",
        "train['tweet'][:20].apply(lambda x: \" \".join([st.stem(word) \n",
        "                                             for word in x.split()]))\n"
      ],
      "execution_count": null,
      "outputs": [
        {
          "output_type": "execute_result",
          "data": {
            "text/plain": [
              "0     user father dysfunct selfish drag kid dysfunct...\n",
              "1     user user thank lyft credit cant use caus dont...\n",
              "2                                        bihday majesti\n",
              "3                 model love u take u time urð ðððð ððð\n",
              "4                               factsguid societi motiv\n",
              "5     22 huge fan fare big talk leav chao pay disput...\n",
              "6     user camp tomorrow user user user user user us...\n",
              "7     next school year year examsð cant think ð scho...\n",
              "8     love land allin cav champion cleveland clevela...\n",
              "9                               user user welcom im gr8\n",
              "10    â ireland consum price index mom climb previou...\n",
              "11    selfish orlando standwithorlando pulseshoot or...\n",
              "12                   get see daddi today 80day gettingf\n",
              "13    user cnn call michigan middl school build wall...\n",
              "14    comment australia opkillingbay seashepherd hel...\n",
              "15             ouchjunior angryðgot7 junior yugyoem omg\n",
              "16                              thank paner thank posit\n",
              "17                                         retweet agre\n",
              "18    friday ð smile around via ig user user cooki m...\n",
              "19                         know essenti oil made chemic\n",
              "Name: tweet, dtype: object"
            ]
          },
          "metadata": {
            "tags": []
          },
          "execution_count": 31
        }
      ]
    },
    {
      "cell_type": "code",
      "metadata": {
        "id": "NPD4J_4Bexj8",
        "colab": {
          "base_uri": "https://localhost:8080/",
          "height": 68
        },
        "outputId": "fbba396d-453d-4975-9a9d-44fd1e5b542b"
      },
      "source": [
        "# Lemmatization\n",
        "import nltk\n",
        "nltk.download('wordnet')\n",
        "from textblob import Word\n",
        "w = Word(\"went\")\n",
        "w.lemmatize(\"v\")  # verb"
      ],
      "execution_count": null,
      "outputs": [
        {
          "output_type": "stream",
          "text": [
            "[nltk_data] Downloading package wordnet to /root/nltk_data...\n",
            "[nltk_data]   Unzipping corpora/wordnet.zip.\n"
          ],
          "name": "stdout"
        },
        {
          "output_type": "execute_result",
          "data": {
            "text/plain": [
              "'go'"
            ]
          },
          "metadata": {
            "tags": []
          },
          "execution_count": 33
        }
      ]
    },
    {
      "cell_type": "code",
      "metadata": {
        "id": "D-NdFlrwfcXw",
        "colab": {
          "base_uri": "https://localhost:8080/",
          "height": 34
        },
        "outputId": "5f28563e-eef4-4aca-f885-107b69143b34"
      },
      "source": [
        "# Sentiment Analysis\n",
        "data = TextBlob(\"Awesome. Very Good\")\n",
        "data.sentiment"
      ],
      "execution_count": null,
      "outputs": [
        {
          "output_type": "execute_result",
          "data": {
            "text/plain": [
              "Sentiment(polarity=0.955, subjectivity=0.8900000000000001)"
            ]
          },
          "metadata": {
            "tags": []
          },
          "execution_count": 34
        }
      ]
    },
    {
      "cell_type": "code",
      "metadata": {
        "id": "MHSjmcYMgZ3Y",
        "colab": {
          "base_uri": "https://localhost:8080/",
          "height": 34
        },
        "outputId": "d3c1a7bc-47a7-4fd8-fa2c-4697cb8c104b"
      },
      "source": [
        "data = TextBlob(\"Very Poor\")\n",
        "data.sentiment"
      ],
      "execution_count": null,
      "outputs": [
        {
          "output_type": "execute_result",
          "data": {
            "text/plain": [
              "Sentiment(polarity=-0.52, subjectivity=0.78)"
            ]
          },
          "metadata": {
            "tags": []
          },
          "execution_count": 35
        }
      ]
    },
    {
      "cell_type": "code",
      "metadata": {
        "id": "RS7nbVDegjkN",
        "colab": {
          "base_uri": "https://localhost:8080/",
          "height": 34
        },
        "outputId": "3636347c-ca3f-4656-9057-8ebb959a482a"
      },
      "source": [
        "data = TextBlob(\"Welldone players, Team Played Well\")\n",
        "data.sentiment.polarity"
      ],
      "execution_count": null,
      "outputs": [
        {
          "output_type": "execute_result",
          "data": {
            "text/plain": [
              "0.0"
            ]
          },
          "metadata": {
            "tags": []
          },
          "execution_count": 37
        }
      ]
    },
    {
      "cell_type": "code",
      "metadata": {
        "id": "33fhJtObg9a2",
        "colab": {
          "base_uri": "https://localhost:8080/",
          "height": 359
        },
        "outputId": "bfaada66-6ec0-43da-901f-c0fb7684ca7f"
      },
      "source": [
        "train['sentiment']=train['tweet'].apply(lambda x: TextBlob(x).sentiment)\n",
        "train[['tweet','sentiment']].head(10)"
      ],
      "execution_count": null,
      "outputs": [
        {
          "output_type": "execute_result",
          "data": {
            "text/html": [
              "<div>\n",
              "<style scoped>\n",
              "    .dataframe tbody tr th:only-of-type {\n",
              "        vertical-align: middle;\n",
              "    }\n",
              "\n",
              "    .dataframe tbody tr th {\n",
              "        vertical-align: top;\n",
              "    }\n",
              "\n",
              "    .dataframe thead th {\n",
              "        text-align: right;\n",
              "    }\n",
              "</style>\n",
              "<table border=\"1\" class=\"dataframe\">\n",
              "  <thead>\n",
              "    <tr style=\"text-align: right;\">\n",
              "      <th></th>\n",
              "      <th>tweet</th>\n",
              "      <th>sentiment</th>\n",
              "    </tr>\n",
              "  </thead>\n",
              "  <tbody>\n",
              "    <tr>\n",
              "      <th>0</th>\n",
              "      <td>user father dysfunctional selfish drags kids d...</td>\n",
              "      <td>(-0.5, 1.0)</td>\n",
              "    </tr>\n",
              "    <tr>\n",
              "      <th>1</th>\n",
              "      <td>user user thanks lyft credit cant use cause do...</td>\n",
              "      <td>(0.2, 0.2)</td>\n",
              "    </tr>\n",
              "    <tr>\n",
              "      <th>2</th>\n",
              "      <td>bihday majesty</td>\n",
              "      <td>(0.0, 0.0)</td>\n",
              "    </tr>\n",
              "    <tr>\n",
              "      <th>3</th>\n",
              "      <td>model love u take u time urð ðððð ððð</td>\n",
              "      <td>(0.5, 0.6)</td>\n",
              "    </tr>\n",
              "    <tr>\n",
              "      <th>4</th>\n",
              "      <td>factsguide society motivation</td>\n",
              "      <td>(0.0, 0.0)</td>\n",
              "    </tr>\n",
              "    <tr>\n",
              "      <th>5</th>\n",
              "      <td>22 huge fan fare big talking leave chaos pay d...</td>\n",
              "      <td>(0.20000000000000004, 0.5)</td>\n",
              "    </tr>\n",
              "    <tr>\n",
              "      <th>6</th>\n",
              "      <td>user camping tomorrow user user user user user...</td>\n",
              "      <td>(0.0, 0.0)</td>\n",
              "    </tr>\n",
              "    <tr>\n",
              "      <th>7</th>\n",
              "      <td>next school year year examsð cant think ð scho...</td>\n",
              "      <td>(-0.4, 0.45)</td>\n",
              "    </tr>\n",
              "    <tr>\n",
              "      <th>8</th>\n",
              "      <td>love land allin cavs champions cleveland cleve...</td>\n",
              "      <td>(0.5, 0.6)</td>\n",
              "    </tr>\n",
              "    <tr>\n",
              "      <th>9</th>\n",
              "      <td>user user welcome im gr8</td>\n",
              "      <td>(0.8, 0.9)</td>\n",
              "    </tr>\n",
              "  </tbody>\n",
              "</table>\n",
              "</div>"
            ],
            "text/plain": [
              "                                               tweet                   sentiment\n",
              "0  user father dysfunctional selfish drags kids d...                 (-0.5, 1.0)\n",
              "1  user user thanks lyft credit cant use cause do...                  (0.2, 0.2)\n",
              "2                                     bihday majesty                  (0.0, 0.0)\n",
              "3              model love u take u time urð ðððð ððð                  (0.5, 0.6)\n",
              "4                      factsguide society motivation                  (0.0, 0.0)\n",
              "5  22 huge fan fare big talking leave chaos pay d...  (0.20000000000000004, 0.5)\n",
              "6  user camping tomorrow user user user user user...                  (0.0, 0.0)\n",
              "7  next school year year examsð cant think ð scho...                (-0.4, 0.45)\n",
              "8  love land allin cavs champions cleveland cleve...                  (0.5, 0.6)\n",
              "9                           user user welcome im gr8                  (0.8, 0.9)"
            ]
          },
          "metadata": {
            "tags": []
          },
          "execution_count": 38
        }
      ]
    },
    {
      "cell_type": "code",
      "metadata": {
        "id": "o1t6ictRhmnc",
        "colab": {
          "base_uri": "https://localhost:8080/",
          "height": 359
        },
        "outputId": "a43e856e-0271-45e4-f519-57e0369bee2d"
      },
      "source": [
        "train['sentiment']=train['tweet'].apply(lambda x: TextBlob(x).sentiment[0])\n",
        "train[['tweet','sentiment']].head(10)"
      ],
      "execution_count": null,
      "outputs": [
        {
          "output_type": "execute_result",
          "data": {
            "text/html": [
              "<div>\n",
              "<style scoped>\n",
              "    .dataframe tbody tr th:only-of-type {\n",
              "        vertical-align: middle;\n",
              "    }\n",
              "\n",
              "    .dataframe tbody tr th {\n",
              "        vertical-align: top;\n",
              "    }\n",
              "\n",
              "    .dataframe thead th {\n",
              "        text-align: right;\n",
              "    }\n",
              "</style>\n",
              "<table border=\"1\" class=\"dataframe\">\n",
              "  <thead>\n",
              "    <tr style=\"text-align: right;\">\n",
              "      <th></th>\n",
              "      <th>tweet</th>\n",
              "      <th>sentiment</th>\n",
              "    </tr>\n",
              "  </thead>\n",
              "  <tbody>\n",
              "    <tr>\n",
              "      <th>0</th>\n",
              "      <td>user father dysfunctional selfish drags kids d...</td>\n",
              "      <td>-0.5</td>\n",
              "    </tr>\n",
              "    <tr>\n",
              "      <th>1</th>\n",
              "      <td>user user thanks lyft credit cant use cause do...</td>\n",
              "      <td>0.2</td>\n",
              "    </tr>\n",
              "    <tr>\n",
              "      <th>2</th>\n",
              "      <td>bihday majesty</td>\n",
              "      <td>0.0</td>\n",
              "    </tr>\n",
              "    <tr>\n",
              "      <th>3</th>\n",
              "      <td>model love u take u time urð ðððð ððð</td>\n",
              "      <td>0.5</td>\n",
              "    </tr>\n",
              "    <tr>\n",
              "      <th>4</th>\n",
              "      <td>factsguide society motivation</td>\n",
              "      <td>0.0</td>\n",
              "    </tr>\n",
              "    <tr>\n",
              "      <th>5</th>\n",
              "      <td>22 huge fan fare big talking leave chaos pay d...</td>\n",
              "      <td>0.2</td>\n",
              "    </tr>\n",
              "    <tr>\n",
              "      <th>6</th>\n",
              "      <td>user camping tomorrow user user user user user...</td>\n",
              "      <td>0.0</td>\n",
              "    </tr>\n",
              "    <tr>\n",
              "      <th>7</th>\n",
              "      <td>next school year year examsð cant think ð scho...</td>\n",
              "      <td>-0.4</td>\n",
              "    </tr>\n",
              "    <tr>\n",
              "      <th>8</th>\n",
              "      <td>love land allin cavs champions cleveland cleve...</td>\n",
              "      <td>0.5</td>\n",
              "    </tr>\n",
              "    <tr>\n",
              "      <th>9</th>\n",
              "      <td>user user welcome im gr8</td>\n",
              "      <td>0.8</td>\n",
              "    </tr>\n",
              "  </tbody>\n",
              "</table>\n",
              "</div>"
            ],
            "text/plain": [
              "                                               tweet  sentiment\n",
              "0  user father dysfunctional selfish drags kids d...       -0.5\n",
              "1  user user thanks lyft credit cant use cause do...        0.2\n",
              "2                                     bihday majesty        0.0\n",
              "3              model love u take u time urð ðððð ððð        0.5\n",
              "4                      factsguide society motivation        0.0\n",
              "5  22 huge fan fare big talking leave chaos pay d...        0.2\n",
              "6  user camping tomorrow user user user user user...        0.0\n",
              "7  next school year year examsð cant think ð scho...       -0.4\n",
              "8  love land allin cavs champions cleveland cleve...        0.5\n",
              "9                           user user welcome im gr8        0.8"
            ]
          },
          "metadata": {
            "tags": []
          },
          "execution_count": 39
        }
      ]
    },
    {
      "cell_type": "code",
      "metadata": {
        "id": "23JMfiE9jCrw",
        "colab": {
          "base_uri": "https://localhost:8080/",
          "height": 34
        },
        "outputId": "ffe6e25c-6b31-4588-c198-61eb7483bff0"
      },
      "source": [
        "# Subjectivity \n",
        "# a.) Objective\n",
        "# b.) Subjective \n",
        "# if subjectivity indicates that its close to 0 means OBJECTIVE\n",
        "# if subjectivity indicates that its close to 1 mean SUBJECTIVE\n",
        "# Objective are based on Facts and observations\n",
        "# Subjective are based on Personal Opinions , Assumptions , Beliefs\n",
        "\n",
        "TextBlob('Good Job but i will expect a lot more in future').sentiment.subjectivity\n"
      ],
      "execution_count": null,
      "outputs": [
        {
          "output_type": "execute_result",
          "data": {
            "text/plain": [
              "0.4083333333333334"
            ]
          },
          "metadata": {
            "tags": []
          },
          "execution_count": 40
        }
      ]
    },
    {
      "cell_type": "code",
      "metadata": {
        "id": "pgUyZSw6kUmh",
        "colab": {
          "base_uri": "https://localhost:8080/",
          "height": 34
        },
        "outputId": "4ef9df61-e52d-47d4-f95b-1b69e6185bfc"
      },
      "source": [
        "msg = 'Python est genial'\n",
        "blob = TextBlob(msg)\n",
        "blob.detect_language()"
      ],
      "execution_count": null,
      "outputs": [
        {
          "output_type": "execute_result",
          "data": {
            "text/plain": [
              "'fr'"
            ]
          },
          "metadata": {
            "tags": []
          },
          "execution_count": 41
        }
      ]
    },
    {
      "cell_type": "code",
      "metadata": {
        "id": "Lqg6Kcpdk86-",
        "colab": {
          "base_uri": "https://localhost:8080/",
          "height": 34
        },
        "outputId": "80c782ae-b12d-4173-8130-97a6a182d723"
      },
      "source": [
        "blob.translate(from_lang='fr',to='en')"
      ],
      "execution_count": null,
      "outputs": [
        {
          "output_type": "execute_result",
          "data": {
            "text/plain": [
              "TextBlob(\"Python is awesome\")"
            ]
          },
          "metadata": {
            "tags": []
          },
          "execution_count": 42
        }
      ]
    },
    {
      "cell_type": "code",
      "metadata": {
        "id": "SuWSa020lJoW",
        "colab": {
          "base_uri": "https://localhost:8080/",
          "height": 34
        },
        "outputId": "b2ab2830-846a-450f-c39b-998aa7f2459f"
      },
      "source": [
        "blob.translate(from_lang='fr',to='hi')"
      ],
      "execution_count": null,
      "outputs": [
        {
          "output_type": "execute_result",
          "data": {
            "text/plain": [
              "TextBlob(\"अजगर भयानक है\")"
            ]
          },
          "metadata": {
            "tags": []
          },
          "execution_count": 43
        }
      ]
    }
  ]
}