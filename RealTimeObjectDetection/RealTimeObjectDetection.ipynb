{
 "cells": [
  {
   "cell_type": "code",
   "execution_count": 3,
   "metadata": {},
   "outputs": [
    {
     "name": "stdout",
     "output_type": "stream",
     "text": [
      "Requirement already satisfied: opencv-python in /Users/abhishek/anaconda3/lib/python3.7/site-packages (4.1.1.26)\n",
      "Requirement already satisfied: numpy>=1.14.5 in /Users/abhishek/anaconda3/lib/python3.7/site-packages (from opencv-python) (1.16.4)\n",
      "Note: you may need to restart the kernel to use updated packages.\n"
     ]
    }
   ],
   "source": [
    "pip install opencv-python"
   ]
  },
  {
   "cell_type": "code",
   "execution_count": 2,
   "metadata": {},
   "outputs": [],
   "source": [
    "# install opencv library\n",
    "#!pip install opencv-python\n",
    "\n",
    "# Real Time Object Detection\n",
    "# Using WebCam\n",
    "\n",
    "import cv2  # computer vision\n",
    "\n",
    "# HaarCascade --> they are trained datasets which can detect the objectsfor which they have been trained for\n",
    "\n",
    "eyeCascade = '/Users/abhishek/Desktop/ABHISHEK/Hackveda/haarcascade_eye.xml'\n",
    "faceCascade = '/Users/abhishek/Desktop/ABHISHEK/Hackveda/haarcascade_frontalface_default.xml'\n",
    "\n",
    "# Create a CascadeClassifier object \n",
    "eye_cascade = cv2.CascadeClassifier(eyeCascade)\n",
    "face_cascade = cv2.CascadeClassifier(faceCascade)\n",
    "\n",
    "# create a video capture object\n",
    "# cv2 --> videoCapture(Int_value)\n",
    "\n",
    "video_capture = cv2.VideoCapture(0)  # 0-> default webcam\n",
    "\n",
    "while True :\n",
    "    ret,img = video_capture.read() # it starts reading feed from the camera\n",
    "    \n",
    "    gray = cv2.cvtColor(img,cv2.COLOR_BGR2GRAY) # BGR : BLUE GREEN RED\n",
    "    \n",
    "    # detect object : face and eyes\n",
    "    # detectMultiScale() --> used to detect objects \n",
    "    # scaleFactor --> it is used for resizing \n",
    "    faces=face_cascade.detectMultiScale(gray,scaleFactor=1.3,\n",
    "                                  minNeighbors=5,\n",
    "                                 minSize=(30,30))\n",
    "    \n",
    "    for x,y,w,h in faces:\n",
    "    # draw  a rectangle around faces\n",
    "        img_1 = cv2.rectangle(img,(x,y),(x+w , y+h),(0,255,0),2)\n",
    "        # create a region of interest ROI\n",
    "        roi_gray = gray[y:y+h , x:x+w]\n",
    "        roi_color = img[y:y+h , x:x+w]\n",
    "\n",
    "        eyes = eye_cascade.detectMultiScale(roi_gray)\n",
    "        for(ex,ey,ew,eh) in eyes: \n",
    "            cv2.rectangle(roi_color,(ex,ey),(ex+ew , ey+eh),(0,255,0),2)\n",
    "    cv2.imshow('MyFace',img) # create output frame\n",
    "\n",
    "    # Close The Frame\n",
    "    k = cv2.waitKey(5) & 0xFF  # ESC key (code)\n",
    "    if k == 27: # 27 is the ASCII value of ESC\n",
    "        break\n",
    "\n",
    "# Close The Window\n",
    "video_capture.release()\n",
    "cv2.destroyAllWindows()"
   ]
  },
  {
   "cell_type": "code",
   "execution_count": null,
   "metadata": {},
   "outputs": [],
   "source": []
  }
 ],
 "metadata": {
  "kernelspec": {
   "display_name": "Python 3",
   "language": "python",
   "name": "python3"
  },
  "language_info": {
   "codemirror_mode": {
    "name": "ipython",
    "version": 3
   },
   "file_extension": ".py",
   "mimetype": "text/x-python",
   "name": "python",
   "nbconvert_exporter": "python",
   "pygments_lexer": "ipython3",
   "version": "3.7.3"
  }
 },
 "nbformat": 4,
 "nbformat_minor": 2
}
