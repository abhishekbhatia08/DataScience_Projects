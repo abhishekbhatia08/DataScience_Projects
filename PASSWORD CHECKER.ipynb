{
 "cells": [
  {
   "cell_type": "markdown",
   "metadata": {},
   "source": [
    "## PASSWORD CHECKER-PROJECT"
   ]
  },
  {
   "cell_type": "markdown",
   "metadata": {},
   "source": [
    "It’s important to protect your personal information online, and in this project you’ll create a program to generate passwords for you.\n",
    "<br>\n",
    "The passwords will be random, so no one will be able to guess them!\n",
    "\n",
    "Write a python program to ask the user the length of password to be selected and generate a password randomly of given length."
   ]
  },
  {
   "cell_type": "code",
   "execution_count": 7,
   "metadata": {},
   "outputs": [
    {
     "name": "stdout",
     "output_type": "stream",
     "text": [
      "lenght4\n",
      "n^Cl\n"
     ]
    }
   ],
   "source": [
    "import random\n",
    "import string\n",
    "stringLength=int(input(\"length\"))\n",
    "password_characters = string.ascii_letters + string.digits + string.punctuation\n",
    "password= \"\".join(random.choice(password_characters) for i in range(stringLength))\n",
    "\n",
    "print(password)\n",
    "\n"
   ]
  },
  {
   "cell_type": "code",
   "execution_count": null,
   "metadata": {},
   "outputs": [],
   "source": []
  }
 ],
 "metadata": {
  "kernelspec": {
   "display_name": "Python 3",
   "language": "python",
   "name": "python3"
  },
  "language_info": {
   "codemirror_mode": {
    "name": "ipython",
    "version": 3
   },
   "file_extension": ".py",
   "mimetype": "text/x-python",
   "name": "python",
   "nbconvert_exporter": "python",
   "pygments_lexer": "ipython3",
   "version": "3.7.1"
  }
 },
 "nbformat": 4,
 "nbformat_minor": 2
}
