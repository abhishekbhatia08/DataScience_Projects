{
 "cells": [
  {
   "cell_type": "markdown",
   "metadata": {},
   "source": [
    "## Game: Rock, Paper, Scissors - PROJECT"
   ]
  },
  {
   "cell_type": "markdown",
   "metadata": {},
   "source": [
    "Lets make a small game called Rock, Paper and Scissors. \n",
    "\n",
    "**There are two players: You and Computer.**\n",
    "\n",
    "Both you and computer choose among three options: Rock, Paper or Scissors. \n",
    "\n",
    "**The winner is decided by these rules:**\n",
    "\n",
    "1. Rock blunts scissors<br>\n",
    "2. Paper covers rock<br>\n",
    "3. Scissors cut paper<br>\n",
    "\n",
    "Now, first the user has to choose one of the three options: Rock, Paper or Scissors.\n",
    "\n",
    "Next, the computer will randomly chose one of the three options: Rock, Paper or Scissors.\n",
    "\n",
    "The winner is declared by making comparison using following conditions: \n",
    "\n",
    "**Case - 1:** If both user and computer choose the same, then it’s a draw.\n",
    "\n",
    "**Case - 2:** The player chose ‘r’ (rock) but the computer chose:\n",
    "\n",
    "If the computer chose ‘s’ (scissors) then the player wins (rock beats scissors).\n",
    "If the computer chose ‘p’ (paper) then the computer wins (paper beats rock).\n",
    "\n",
    "**Case - 3:** The player chose ‘p’ (paper) but the computer chose:\n",
    "\n",
    "If the computer chose ‘r’ (rock) then the player wins (paper beats rock).\n",
    "If the computer chose ‘s’ (scissor) then the computer wins (scissors beats paper).\n",
    "\n",
    "**Case - 4:** The player chose ‘s’ (scissors) but the computer didn’t:\n",
    "\n",
    "*Guess the conditions of case 4 and develop the code in Python to implement this game.*"
   ]
  },
  {
   "cell_type": "code",
   "execution_count": 5,
   "metadata": {},
   "outputs": [
    {
     "name": "stdout",
     "output_type": "stream",
     "text": [
      "rock/paper/scissors -userr\n",
      "rock/paper/scissors-computers\n",
      "player wins(rock beats scissors)\n"
     ]
    }
   ],
   "source": [
    "uchoose=input(\"rock/paper/scissors -user\")\n",
    "cchoose=input(\"rock/paper/scissors-computer\")\n",
    "if (uchoose==cchoose):\n",
    "    print(\"it's a draw!\")\n",
    "elif(uchoose=='r'):\n",
    "    if(cchoose=='s'):\n",
    "        print(\"player wins(rock beats scissors)\")\n",
    "    else:\n",
    "        print(\"computer wins (paper beats rock)\")\n",
    "elif(uchoose=='p'):\n",
    "     if(cchoose=='r'):\n",
    "        print(\"player wins (paper beats rock)\")\n",
    "     else:\n",
    "        print(\"computer wins (scissors beats paper)\")\n",
    "elif(uchoose=='s'):\n",
    "    if(cchoose=='p'):\n",
    "        print(\"player wins(Scissors cut paper)\")\n",
    "    else:\n",
    "        print(\"computer wins(Rock blunts scissors)\")\n",
    "else:\n",
    "    print(\"error!\")\n",
    "        \n",
    "    \n"
   ]
  },
  {
   "cell_type": "code",
   "execution_count": null,
   "metadata": {},
   "outputs": [],
   "source": []
  }
 ],
 "metadata": {
  "kernelspec": {
   "display_name": "Python 3",
   "language": "python",
   "name": "python3"
  },
  "language_info": {
   "codemirror_mode": {
    "name": "ipython",
    "version": 3
   },
   "file_extension": ".py",
   "mimetype": "text/x-python",
   "name": "python",
   "nbconvert_exporter": "python",
   "pygments_lexer": "ipython3",
   "version": "3.7.1"
  }
 },
 "nbformat": 4,
 "nbformat_minor": 2
}
